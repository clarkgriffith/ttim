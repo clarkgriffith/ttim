{
 "metadata": {
  "name": ""
 },
 "nbformat": 3,
 "nbformat_minor": 0,
 "worksheets": [
  {
   "cells": [
    {
     "cell_type": "markdown",
     "metadata": {},
     "source": [
      "Set path to TTim (if needed)"
     ]
    },
    {
     "cell_type": "code",
     "collapsed": false,
     "input": [
      "ttimpath = '/Users/mark/ttim/svn/trunk'\n",
      "import sys\n",
      "if ttimpath not in sys.path: sys.path.append(ttimpath)"
     ],
     "language": "python",
     "metadata": {},
     "outputs": [],
     "prompt_number": 1
    },
    {
     "cell_type": "markdown",
     "metadata": {},
     "source": [
      "Start pylab and import ttim"
     ]
    },
    {
     "cell_type": "code",
     "collapsed": false,
     "input": [
      "%pylab inline\n",
      "from ttim import *"
     ],
     "language": "python",
     "metadata": {},
     "outputs": [
      {
       "output_type": "stream",
       "stream": "stdout",
       "text": [
        "Populating the interactive namespace from numpy and matplotlib\n"
       ]
      }
     ],
     "prompt_number": 2
    },
    {
     "cell_type": "markdown",
     "metadata": {},
     "source": [
      "Create a quasi-3d model with 5 layers"
     ]
    },
    {
     "cell_type": "code",
     "collapsed": false,
     "input": [
      "ml = Model3D(kaq = 1, z = arange(5,-1,-1), Saq = 0.001, kzoverkh = 0.1, phreatictop = False, tmin = 1, tmax = 10, M = 20)"
     ],
     "language": "python",
     "metadata": {},
     "outputs": [],
     "prompt_number": 3
    },
    {
     "cell_type": "markdown",
     "metadata": {},
     "source": [
      "Create a ditch consisting of 9 line-sinks (in this case along a line with shorter line-sinks towards the ends), with a Q of 20 m$^3$/d, a resistance to inflow of 1 day and the width of inflow equal to the thickness of the layer that the ditch is screened in. The ditch is screened in layers 1 and 2."
     ]
    },
    {
     "cell_type": "code",
     "collapsed": false,
     "input": [
      "x = 10 * cos( linspace(-pi,0,10) )\n",
      "y = zeros(10)\n",
      "lsd = MscreenLineSinkDitchString(ml, xy = zip(x,y), tsandQ = [(0.0, 20.0)], res = 1.0, wh = 'H', layers = [1,2] )"
     ],
     "language": "python",
     "metadata": {},
     "outputs": [],
     "prompt_number": 4
    },
    {
     "cell_type": "markdown",
     "metadata": {},
     "source": [
      "Solve the model"
     ]
    },
    {
     "cell_type": "code",
     "collapsed": false,
     "input": [
      "ml.solve()"
     ],
     "language": "python",
     "metadata": {},
     "outputs": [
      {
       "output_type": "stream",
       "stream": "stdout",
       "text": [
        "self.Neq  18\n",
        "solution complete"
       ]
      },
      {
       "output_type": "stream",
       "stream": "stdout",
       "text": [
        "\n"
       ]
      }
     ],
     "prompt_number": 5
    },
    {
     "cell_type": "markdown",
     "metadata": {},
     "source": [
      "The line-sink ditch has a function that returns the head inside the ditch at the specified times. It returns an array of size (nls,nlay,ntimes). The heads should all be approximately equal. "
     ]
    },
    {
     "cell_type": "code",
     "collapsed": false,
     "input": [
      "headinside = lsd.headinside(t=3)\n",
      "print headinside"
     ],
     "language": "python",
     "metadata": {},
     "outputs": [
      {
       "output_type": "stream",
       "stream": "stdout",
       "text": [
        "[[[-2.88781124]\n",
        "  [-2.88781125]]\n",
        "\n",
        " [[-2.88781117]\n",
        "  [-2.88781131]]\n",
        "\n",
        " [[-2.88781117]\n",
        "  [-2.88781121]]\n",
        "\n",
        " [[-2.88781137]\n",
        "  [-2.88781135]]\n",
        "\n",
        " [[-2.88781138]\n",
        "  [-2.88781128]]\n",
        "\n",
        " [[-2.88781132]\n",
        "  [-2.88781123]]\n",
        "\n",
        " [[-2.88781132]\n",
        "  [-2.88781125]]\n",
        "\n",
        " [[-2.88781132]\n",
        "  [-2.88781127]]\n",
        "\n",
        " [[-2.88781128]\n",
        "  [-2.88781125]]]\n"
       ]
      }
     ],
     "prompt_number": 6
    },
    {
     "cell_type": "markdown",
     "metadata": {},
     "source": [
      "The ditch also has a `strength` function, which returns the discharge of the entire line-sink ditch for each layer. Besides the `strength` function there is a `strength_list`, which returns the individual discharge of each line-sink of the line-sink string. It can be verified that the solution is correct by comparing the discharge of each line-sink with the discharge computed by taking the difference between the head just on the outside of the line-sink minus the head inside the linesink and divide the head difference by the resistance factor stored by TTim (equal to `res / (wh * L)`, where `res` is the specified resistance (in days), and `wh` is the width or height over which water enters the ditch, and `L` is the length of each line-sink. The computed arrays for the head on the inside and outside have different shapes (there is a reason for that, but it is a bit inconvenient). "
     ]
    },
    {
     "cell_type": "code",
     "collapsed": false,
     "input": [
      "hin = lsd.headinside(t=3) # shape (nls,nlay,ntimes)\n",
      "hout = ml.headalongline( lsd.xc, lsd.yc, 3, [1,2] ) # shape (nlay,ntimes,nls)\n",
      "resfach = lsd.resfach.reshape((lsd.Nls,2))\n",
      "print 'Q computed from head difference'\n",
      "for ils in range(lsd.Nls):\n",
      "    print ( hout[:,0,ils] - hin[ils,:,0] ) / resfach[ils]\n",
      "Qlist = lsd.strength_list(t=3)\n",
      "print 'Q computed by TTim solve'\n",
      "print Qlist[:,:,0]"
     ],
     "language": "python",
     "metadata": {},
     "outputs": [
      {
       "output_type": "stream",
       "stream": "stdout",
       "text": [
        "Q computed from head difference\n",
        "[ 0.44735183  0.49483617]\n",
        "[ 0.97594445  1.12087082]\n",
        "[ 1.18455783  1.42880514]\n",
        "[ 1.28085495  1.58985951]\n",
        "[ 1.31220508  1.6416332 ]\n",
        "[ 1.28085491  1.58985957]\n",
        "[ 1.18455783  1.42880514]\n",
        "[ 0.97594452  1.12087078]\n",
        "[ 0.44735181  0.49483619]\n",
        "Q computed by TTim solve\n",
        "[[ 0.44735183  0.49483617]\n",
        " [ 0.97594445  1.12087082]\n",
        " [ 1.18455783  1.42880514]\n",
        " [ 1.28085495  1.58985951]\n",
        " [ 1.31220508  1.6416332 ]\n",
        " [ 1.28085491  1.58985957]\n",
        " [ 1.18455783  1.42880514]\n",
        " [ 0.97594452  1.12087078]\n",
        " [ 0.44735181  0.49483619]]\n"
       ]
      }
     ],
     "prompt_number": 7
    },
    {
     "cell_type": "markdown",
     "metadata": {},
     "source": [
      "Cross-section of head in layer 1 along and beyond the ditch"
     ]
    },
    {
     "cell_type": "code",
     "collapsed": false,
     "input": [
      "xsection( ml, -20, 20, 0, 0, N = 100, t = [1,5,10], layers = 1 )"
     ],
     "language": "python",
     "metadata": {},
     "outputs": [
      {
       "metadata": {},
       "output_type": "display_data",
       "png": "[encoded data removed]",
       "text": [
        "<matplotlib.figure.Figure at 0x31087f0>"
       ]
      }
     ],
     "prompt_number": 8
    },
    {
     "cell_type": "markdown",
     "metadata": {},
     "source": [
      "Compute the head inside the line-sink for time varying from 1 to 10. Only store the head in the first line-sink of the ditch, as they are all the same anyway."
     ]
    },
    {
     "cell_type": "code",
     "collapsed": false,
     "input": [
      "head1 = lsd.headinside(linspace(1,10,50))[0,0]"
     ],
     "language": "python",
     "metadata": {},
     "outputs": [],
     "prompt_number": 9
    },
    {
     "cell_type": "markdown",
     "metadata": {},
     "source": [
      "Create the same model, but now add storage in the canal by specifying the storage area `Astorage=20.0`."
     ]
    },
    {
     "cell_type": "code",
     "collapsed": false,
     "input": [
      "ml = Model3D(kaq = 1, z = arange(5,-1,-1), Saq = 0.001, kzoverkh = 0.1, phreatictop = False, tmin = 1, tmax = 10, M = 20)\n",
      "lsd = MscreenLineSinkDitchString(ml, xy = zip(x,y), tsandQ = [(0.0, 20.0)], res = 1.0, wh = 'H', layers = [1,2], Astorage = 20.0 )\n",
      "ml.solve()"
     ],
     "language": "python",
     "metadata": {},
     "outputs": [
      {
       "output_type": "stream",
       "stream": "stdout",
       "text": [
        "self.Neq  18\n",
        "solution complete"
       ]
      },
      {
       "output_type": "stream",
       "stream": "stdout",
       "text": [
        "\n"
       ]
      }
     ],
     "prompt_number": 10
    },
    {
     "cell_type": "code",
     "collapsed": false,
     "input": [
      "print 'inflow into ditch at time t=3', sum(lsd.strength(t=3))\n",
      "print 'rate of lowering of water table', -lsd.headinside(t=3,derivative=1)[0,0,0] * lsd.Astorage\n",
      "print 'total discharge ',sum(lsd.strength(t=3)) - lsd.headinside(t=3,derivative=1)[0,0,0] * lsd.Astorage"
     ],
     "language": "python",
     "metadata": {},
     "outputs": [
      {
       "output_type": "stream",
       "stream": "stdout",
       "text": [
        "inflow into ditch at time t=3 13.0700091249\n",
        "rate of lowering of water table "
       ]
      },
      {
       "output_type": "stream",
       "stream": "stdout",
       "text": [
        "6.9299910671\n",
        "total discharge  "
       ]
      },
      {
       "output_type": "stream",
       "stream": "stdout",
       "text": [
        "20.000000192\n"
       ]
      }
     ],
     "prompt_number": 11
    },
    {
     "cell_type": "markdown",
     "metadata": {},
     "source": [
      "Head in canal for case with canal storage"
     ]
    },
    {
     "cell_type": "code",
     "collapsed": false,
     "input": [
      "head2 = lsd.headinside(linspace(1,10,50))[0,0]"
     ],
     "language": "python",
     "metadata": {},
     "outputs": [],
     "prompt_number": 12
    },
    {
     "cell_type": "code",
     "collapsed": false,
     "input": [
      "plot(linspace(1,10,50),head1,label='w/o  canal storage')\n",
      "plot(linspace(1,10,50),head2,label='with canal storage')\n",
      "xlabel('time (days)')\n",
      "ylabel('drawdown in canal (m)')\n",
      "legend(loc='best')"
     ],
     "language": "python",
     "metadata": {},
     "outputs": [
      {
       "metadata": {},
       "output_type": "pyout",
       "prompt_number": 13,
       "text": [
        "<matplotlib.legend.Legend at 0x36ca810>"
       ]
      },
      {
       "metadata": {},
       "output_type": "display_data",
       "png": "[encoded data removed]",
       "text": [
        "<matplotlib.figure.Figure at 0x36e4f30>"
       ]
      }
     ],
     "prompt_number": 13
    },
    {
     "cell_type": "code",
     "collapsed": false,
     "input": [
      "hin = lsd.headinside(t=3) # shape (nls,nlay,ntimes)\n",
      "hout = ml.headalongline( lsd.xc, lsd.yc, 3, [1,2] ) # shape (nlay,ntimes,nls)\n",
      "resfach = lsd.resfach.reshape((lsd.Nls,2))\n",
      "print 'Q computed from head difference'\n",
      "for ils in range(lsd.Nls):\n",
      "    print ( hout[:,0,ils] - hin[ils,:,0] ) / resfach[ils]\n",
      "Qlist = lsd.strength_list(t=3)\n",
      "print 'Q computed by TTim solve'\n",
      "print Qlist[:,:,0]"
     ],
     "language": "python",
     "metadata": {},
     "outputs": [
      {
       "output_type": "stream",
       "stream": "stdout",
       "text": [
        "Q computed from head difference\n",
        "[ 0.29155706  0.32249177]\n",
        "[ 0.63669181  0.73114541]\n",
        "[ 0.77414124  0.93343155]\n",
        "[ 0.83842843  1.04008987]\n",
        "[ 0.85949943  1.07455534]\n",
        "[ 0.83842843  1.04008989]\n",
        "[ 0.77414124  0.93343153]\n",
        "[ 0.63669181  0.73114539]\n",
        "[ 0.29155707  0.32249178]\n",
        "Q computed by TTim solve\n",
        "[[ 0.29155706  0.32249177]\n",
        " [ 0.63669181  0.73114541]\n",
        " [ 0.77414124  0.93343155]\n",
        " [ 0.83842843  1.04008987]\n",
        " [ 0.85949943  1.07455534]\n",
        " [ 0.83842843  1.04008989]\n",
        " [ 0.77414124  0.93343153]\n",
        " [ 0.63669181  0.73114539]\n",
        " [ 0.29155707  0.32249178]]\n"
       ]
      }
     ],
     "prompt_number": 14
    },
    {
     "cell_type": "code",
     "collapsed": false,
     "input": [],
     "language": "python",
     "metadata": {},
     "outputs": [],
     "prompt_number": 14
    }
   ],
   "metadata": {}
  }
 ]
}