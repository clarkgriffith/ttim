{
 "metadata": {
  "name": ""
 },
 "nbformat": 3,
 "nbformat_minor": 0,
 "worksheets": [
  {
   "cells": [
    {
     "cell_type": "markdown",
     "metadata": {},
     "source": [
      "Set path to TTim (if needed)"
     ]
    },
    {
     "cell_type": "code",
     "collapsed": false,
     "input": [
      "ttimpath = '/Users/mark/ttim/svn/trunk'\n",
      "import sys\n",
      "if ttimpath not in sys.path: sys.path.append(ttimpath)"
     ],
     "language": "python",
     "metadata": {},
     "outputs": [],
     "prompt_number": 11
    },
    {
     "cell_type": "markdown",
     "metadata": {},
     "source": [
      "Start pylab and import ttim"
     ]
    },
    {
     "cell_type": "code",
     "collapsed": false,
     "input": [
      "%pylab inline\n",
      "from ttim import *"
     ],
     "language": "python",
     "metadata": {},
     "outputs": [
      {
       "output_type": "stream",
       "stream": "stdout",
       "text": [
        "Populating the interactive namespace from numpy and matplotlib\n"
       ]
      }
     ],
     "prompt_number": 12
    },
    {
     "cell_type": "markdown",
     "metadata": {},
     "source": [
      "Create a quasi-3d model with 5 layers"
     ]
    },
    {
     "cell_type": "code",
     "collapsed": false,
     "input": [
      "ml = Model3D(kaq = 1, z = arange(5,-1,-1), Saq = 0.001, kzoverkh = 0.1, phreatictop = False, tmin = 1, tmax = 10, M = 20)"
     ],
     "language": "python",
     "metadata": {},
     "outputs": [],
     "prompt_number": 13
    },
    {
     "cell_type": "markdown",
     "metadata": {},
     "source": [
      "Create a ditch consisting of 9 line-sinks (in this case along a line with shorter line-sinks towards the ends), with a Q of 20 m$^3$/d, a resistance to inflow of 1 day and the width of inflow equal to the thickness of the layer that the ditch is screened in. The ditch is screened in layers 1 and 2."
     ]
    },
    {
     "cell_type": "code",
     "collapsed": false,
     "input": [
      "x = 10 * cos( linspace(-pi,0,10) )\n",
      "y = zeros(10)\n",
      "lsd = MscreenLineSinkDitchString(ml, xy = zip(x,y), tsandQ = [(0.0, 20.0)], res = 1.0, wh = 'H', layers = [1,2] )"
     ],
     "language": "python",
     "metadata": {},
     "outputs": [],
     "prompt_number": 14
    },
    {
     "cell_type": "markdown",
     "metadata": {},
     "source": [
      "Solve the model"
     ]
    },
    {
     "cell_type": "code",
     "collapsed": false,
     "input": [
      "ml.solve()"
     ],
     "language": "python",
     "metadata": {},
     "outputs": [
      {
       "output_type": "stream",
       "stream": "stdout",
       "text": [
        "self.Neq  18\n",
        "solution complete"
       ]
      },
      {
       "output_type": "stream",
       "stream": "stdout",
       "text": [
        "\n"
       ]
      }
     ],
     "prompt_number": 15
    },
    {
     "cell_type": "markdown",
     "metadata": {},
     "source": [
      "The line-sink ditch has a function that returns the head inside the ditch at the specified times. It returns an array of size (nls,nlay,ntimes). The heads should all be approximately equal. "
     ]
    },
    {
     "cell_type": "code",
     "collapsed": false,
     "input": [
      "headinside = lsd.headinside(t=3)\n",
      "print headinside"
     ],
     "language": "python",
     "metadata": {},
     "outputs": [
      {
       "output_type": "stream",
       "stream": "stdout",
       "text": [
        "[[[-2.88781124]\n",
        "  [-2.88781125]]\n",
        "\n",
        " [[-2.88781117]\n",
        "  [-2.88781131]]\n",
        "\n",
        " [[-2.88781117]\n",
        "  [-2.88781121]]\n",
        "\n",
        " [[-2.88781137]\n",
        "  [-2.88781135]]\n",
        "\n",
        " [[-2.88781138]\n",
        "  [-2.88781128]]\n",
        "\n",
        " [[-2.88781132]\n",
        "  [-2.88781123]]\n",
        "\n",
        " [[-2.88781132]\n",
        "  [-2.88781125]]\n",
        "\n",
        " [[-2.88781132]\n",
        "  [-2.88781127]]\n",
        "\n",
        " [[-2.88781128]\n",
        "  [-2.88781125]]]\n"
       ]
      }
     ],
     "prompt_number": 61
    },
    {
     "cell_type": "markdown",
     "metadata": {},
     "source": [
      "The ditch also has a `strength` function, which returns the discharge of the entire line-sink ditch for each layer. Besides the `strength` function there is a `strength_list`, which returns the individual discharge of each line-sink of the line-sink string. It can be verified that the solution is correct by comparing the discharge of each line-sink with the discharge computed by taking the difference between the head just on the outside of the line-sink minus the head inside the linesink and divide the head difference by the resistance factor stored by TTim (equal to `res / (wh * L)`, where `res` is the specified resistance (in days), and `wh` is the width or height over which water enters the ditch, and `L` is the length of each line-sink. The computed arrays for the head on the inside and outside have different shapes (there is a reason for that, but it is a bit inconvenient). "
     ]
    },
    {
     "cell_type": "code",
     "collapsed": false,
     "input": [
      "hin = lsd.headinside(t=3) # shape (nls,nlay,ntimes)\n",
      "hout = ml.headalongline( lsd.xc, lsd.yc, 3, [1,2] ) # shape (nlay,ntimes,nls)\n",
      "resfach = lsd.resfach.reshape((lsd.Nls,2))\n",
      "print 'Q computed from head difference'\n",
      "for ils in range(lsd.Nls):\n",
      "    print ( hout[:,0,ils] - hin[ils,:,0] ) / resfach[ils]\n",
      "Qlist = lsd.strength_list(t=3)\n",
      "print 'Q computed by TTim solve'\n",
      "print Qlist[:,:,0]"
     ],
     "language": "python",
     "metadata": {},
     "outputs": [
      {
       "output_type": "stream",
       "stream": "stdout",
       "text": [
        "Q computed from head difference\n",
        "[ 0.44735183  0.49483617]\n",
        "[ 0.97594445  1.12087082]\n",
        "[ 1.18455783  1.42880514]\n",
        "[ 1.28085495  1.58985951]\n",
        "[ 1.31220508  1.6416332 ]\n",
        "[ 1.28085491  1.58985957]\n",
        "[ 1.18455783  1.42880514]\n",
        "[ 0.97594452  1.12087078]\n",
        "[ 0.44735181  0.49483619]\n",
        "Q computed by TTim solve\n",
        "[[ 0.44735183  0.49483617]\n",
        " [ 0.97594445  1.12087082]\n",
        " [ 1.18455783  1.42880514]\n",
        " [ 1.28085495  1.58985951]\n",
        " [ 1.31220508  1.6416332 ]\n",
        " [ 1.28085491  1.58985957]\n",
        " [ 1.18455783  1.42880514]\n",
        " [ 0.97594452  1.12087078]\n",
        " [ 0.44735181  0.49483619]]\n"
       ]
      },
      {
       "metadata": {},
       "output_type": "pyout",
       "prompt_number": 67,
       "text": [
        "(9, 2, 1)"
       ]
      }
     ],
     "prompt_number": 67
    },
    {
     "cell_type": "markdown",
     "metadata": {},
     "source": [
      "Cross-section of head in layer 1 along and beyond the ditch"
     ]
    },
    {
     "cell_type": "code",
     "collapsed": false,
     "input": [
      "xsection( ml, -20, 20, 0, 0, N = 100, t = [1,5,10], layers = 1 )"
     ],
     "language": "python",
     "metadata": {},
     "outputs": [
      {
       "metadata": {},
       "output_type": "display_data",
       "png": "[encoded data removed]",
       "text": [
        "<matplotlib.figure.Figure at 0x3164f50>"
       ]
      }
     ],
     "prompt_number": 69
    }
   ],
   "metadata": {}
  }
 ]
}